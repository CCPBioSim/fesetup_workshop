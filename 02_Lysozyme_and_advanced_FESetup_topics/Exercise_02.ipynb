{
 "cells": [
  {
   "cell_type": "markdown",
   "metadata": {},
   "source": [
    "## Setting up Lysoszyme to run standard MD smulation\n",
    "This notebook will guide you through how to use FESetup for setting up a protein simulation and generate output for various different simulation engines. \n",
    "\n",
    "\n",
    "The notebook forms part of the CCPBio-Sim workshop **Tackling Alchemistry with FESetup and Sire SOMD** run on the 10th of April 2018 at the University of Bristol.\n",
    "\n",
    "*Author: Anotnia Mey   \n",
    "Email: antonia.mey@ed.ac.uk*\n",
    "\n",
    "**Reading time of the document: xx mins**"
   ]
  },
  {
   "cell_type": "markdown",
   "metadata": {},
   "source": [
    "### Imports"
   ]
  },
  {
   "cell_type": "code",
   "execution_count": 2,
   "metadata": {},
   "outputs": [
    {
     "name": "stdout",
     "output_type": "stream",
     "text": [
      "Populating the interactive namespace from numpy and matplotlib\n"
     ]
    }
   ],
   "source": [
    "%pylab inline\n",
    "import nglview as nv"
   ]
  },
  {
   "cell_type": "markdown",
   "metadata": {},
   "source": [
    "## Setting up Lysozyme \n",
    "FESetup has a nice feature, where it will produce compatible output for different MD engines. It currently support *NAMD*, *AMBER*, *Gromacs* and *DLPOLY*, provided the executables for each of the simulation packages are actually installed. In the following we will look at how to set up lysozyme. The first part of this tutorial is found in the directory Task01. "
   ]
  },
  {
   "cell_type": "code",
   "execution_count": 4,
   "metadata": {},
   "outputs": [
    {
     "name": "stdout",
     "output_type": "stream",
     "text": [
      "/Users/toni_brain/Projects/git/fesetup_workshop/02_Lysozyme_and_advanced_FESetup_topics/Task01\n"
     ]
    }
   ],
   "source": [
    "cd Task01"
   ]
  },
  {
   "cell_type": "markdown",
   "metadata": {},
   "source": [
    "Let's start by loading the molecule."
   ]
  },
  {
   "cell_type": "code",
   "execution_count": 7,
   "metadata": {},
   "outputs": [
    {
     "data": {
      "application/vnd.jupyter.widget-view+json": {
       "model_id": "ea6f7e20633c44f2b4a559604d5fdc82",
       "version_major": 2,
       "version_minor": 0
      },
      "text/plain": [
       "A Jupyter Widget"
      ]
     },
     "metadata": {},
     "output_type": "display_data"
    }
   ],
   "source": [
    "view = nv.show_file('proteins/181L/protein.pdb')\n",
    "view"
   ]
  },
  {
   "cell_type": "markdown",
   "metadata": {},
   "source": [
    "As for the ethane methanol simulations we have an input file for FESetup. This time it has a new section named [protein]. This contains all the relevant information for setting up a protein simulation. Let's have a look at this very basic setup file. "
   ]
  },
  {
   "cell_type": "code",
   "execution_count": 8,
   "metadata": {},
   "outputs": [
    {
     "name": "stdout",
     "output_type": "stream",
     "text": [
      "# T4-lysozyme: setup\r\n",
      "\r\n",
      "logfile = T4-lysozyme_molsetup.log\r\n",
      "forcefield = amber, ff14SB, tip3p, cm\r\n",
      "\r\n",
      "mdengine = amber, sander\r\n",
      "\r\n",
      "# prepare the biomolecules (could also be DNA for example)\r\n",
      "[protein]\r\n",
      "basedir = proteins\r\n",
      "molecules = 181L \r\n",
      "neutralize = True \r\n",
      "\r\n",
      "box.type = rectangular\r\n",
      "box.length = 12.0\r\n",
      "align_axes = True\r\n",
      "\r\n",
      "min.nsteps = 200\r\n",
      "min.ncyc = 100\r\n",
      "\r\n"
     ]
    }
   ],
   "source": [
    "!head -n 30 setup.in"
   ]
  },
  {
   "cell_type": "markdown",
   "metadata": {},
   "source": [
    "We want to put the protein 181L into a box of length 12 add some solvent and neutralize the box and run a set of minimisation steps. Executing this will generate the ouptut file `_proteins` which will contain the minimised protein structure. "
   ]
  },
  {
   "cell_type": "code",
   "execution_count": null,
   "metadata": {
    "collapsed": true
   },
   "outputs": [],
   "source": [
    "!FESetup setup.in"
   ]
  },
  {
   "cell_type": "code",
   "execution_count": null,
   "metadata": {
    "collapsed": true
   },
   "outputs": [],
   "source": [
    "ls _proteins/181L"
   ]
  },
  {
   "cell_type": "markdown",
   "metadata": {},
   "source": [
    "This directory now contains your solvated protein ready for an equilibration or other type of simulation run. This is the simplest way of preparing a protein simulation. Of course you can again use "
   ]
  },
  {
   "cell_type": "markdown",
   "metadata": {},
   "source": [
    "### Setup with Gromacs\n",
    "We can use the same setup to run with gromacs. The only thin that will have to be changed is the line specifying the MD engine:   \n",
    "`\n",
    "mdengine = gromacs, mdrun\n",
    "`   \n",
    "If Gromacs is not installed the setup with fail. This is currently the case on this server, but we can still run an example file until we get the error. This time we use `182L` for the setup. "
   ]
  },
  {
   "cell_type": "code",
   "execution_count": null,
   "metadata": {
    "collapsed": true
   },
   "outputs": [],
   "source": [
    "!FEsetup setup_gromacs.in"
   ]
  },
  {
   "cell_type": "markdown",
   "metadata": {},
   "source": [
    "Let's have a look in the `_proteins/182L` directory. You will find it contains a `solvated.gro` and `solvated.top` file, which are the respective coordinate and topology files associated with Gromacs and can then be used to run your simulation with gromacs.  "
   ]
  },
  {
   "cell_type": "markdown",
   "metadata": {},
   "source": [
    "**Task: What would you have to change to prepare files compatible with NAMD?**"
   ]
  },
  {
   "cell_type": "markdown",
   "metadata": {},
   "source": [
    "## Setting up Lysozyme with a ligand \n",
    "Setting up a single protein isn't necessarily such a complcated task. But setting up a protein and a ligand together might require more effort. The ligand will often lack parameters so partial charges for the forcefield need to be generated and doing this by hand is cumbersome. FESetup can help with this. Let's look at Task02 working with both protein and ligand. "
   ]
  },
  {
   "cell_type": "markdown",
   "metadata": {},
   "source": [
    "### Benzene as a ligand of Lysozyme"
   ]
  },
  {
   "cell_type": "code",
   "execution_count": 12,
   "metadata": {},
   "outputs": [
    {
     "name": "stdout",
     "output_type": "stream",
     "text": [
      "/Users/toni_brain/Projects/git/fesetup_workshop/02_Lysozyme_and_advanced_FESetup_topics/Task02\n"
     ]
    }
   ],
   "source": [
    "cd ../Task02"
   ]
  },
  {
   "cell_type": "markdown",
   "metadata": {
    "collapsed": true
   },
   "source": [
    "You now have a proteins and ligands directory. The proteins directory contains again the structure of 181L and the ligands directory that of benzene.    \n",
    "\n",
    "**Task: visualise both the protein and the ligand to make sure that the ligand has the right coordinates**"
   ]
  },
  {
   "cell_type": "code",
   "execution_count": null,
   "metadata": {
    "collapsed": true
   },
   "outputs": [],
   "source": []
  },
  {
   "cell_type": "markdown",
   "metadata": {
    "collapsed": true
   },
   "source": [
    "Now we want to actually greate a complex of the ligand and protein and solvate it. For this there is another `setup.in` file prepared. Let's look at this file a bit more closely:"
   ]
  },
  {
   "cell_type": "code",
   "execution_count": 13,
   "metadata": {},
   "outputs": [
    {
     "name": "stdout",
     "output_type": "stream",
     "text": [
      "# T4-lysozyme: \r\n",
      "\r\n",
      "logfile = T4-lysozyme_molsetup.log\r\n",
      "forcefield = amber, ff14SB, tip3p, cm\r\n",
      "\r\n",
      "mdengine = amber, sander\r\n",
      "\r\n",
      "#setus up ligand benzene in a solvated box and in vacuum\r\n",
      "[ligand]\r\n",
      "basedir = ligands\r\n",
      "file.name = ligand.mol2\r\n",
      "molecules = benzene\r\n",
      "\r\n",
      "box.type = rectangular\r\n",
      "box.length = 12.0\r\n",
      "neutralize = yes\r\n",
      "min.nsteps = 100\r\n",
      "\r\n",
      "# prepare the biomolecules (could also be DNA for example)\r\n",
      "[protein]\r\n",
      "basedir = proteins\r\n",
      "molecules = 181L \r\n",
      "neutralize = True\r\n",
      "\r\n",
      "\r\n",
      "# create the complex form the ligands and proteins above, solvate and minimise\r\n",
      "# the complexes\r\n",
      "[complex]\r\n",
      "# explicit enumeration of pairs, otherwise all-with-all creation even\r\n",
      "# when there is no [complex] section\r\n",
      "pairs = 181L : benzene\r\n",
      "\r\n",
      "box.type = rectangular\r\n",
      "box.length = 12.0\r\n",
      "align_axes = True\r\n",
      "\r\n",
      "min.nsteps = 200\r\n",
      "min.ncyc = 100\r\n",
      "\r\n"
     ]
    }
   ],
   "source": [
    "!head -n 50 setup.in"
   ]
  },
  {
   "cell_type": "markdown",
   "metadata": {},
   "source": [
    "We again have a ligand section which defines the moleucle  and also makes sure that benzene will be set up in a solvation box. Then again the same protein section, but now in addition there is the complex section, which defines the fact that we want to create a comple of 181L and benzene, but that in a box solvate it and minimise it. "
   ]
  },
  {
   "cell_type": "code",
   "execution_count": null,
   "metadata": {
    "collapsed": true
   },
   "outputs": [],
   "source": [
    "# Insert the code here to run the setup. \n"
   ]
  },
  {
   "cell_type": "markdown",
   "metadata": {},
   "source": [
    "Now you should be able to located a directory called `_complex`, that was generated by FESetup. It should contain the complex in vacuum and in solvent. "
   ]
  },
  {
   "cell_type": "code",
   "execution_count": null,
   "metadata": {
    "collapsed": true
   },
   "outputs": [],
   "source": [
    "# Insert code to visualise the complex in vacuum\n",
    "\n"
   ]
  },
  {
   "cell_type": "markdown",
   "metadata": {
    "collapsed": true
   },
   "source": [
    "## Butylbenzene as a ligand of Lysosyme\n",
    "Often you are in a position where you might want to run a simulation with a ligand where you only have a smiles string or sdf file. So how can we go from a smiles file to a solvated complex. One easy way to do this is using babel. \n",
    "Take a look at `ligands/ortho-xylene/ligand.smi`. This file contains the following smiles string: `CC1=C(C)C=CC=C1`. What we need to do it generate a 3D structure.   \n",
    "\n",
    "The next cell uses babel to convert the input smiles string to a 3D structure of format mol2. "
   ]
  },
  {
   "cell_type": "code",
   "execution_count": null,
   "metadata": {
    "collapsed": true
   },
   "outputs": [],
   "source": [
    "!obabel -ismi ligands/ortho-xylene/ligand.smi  -opdb ligands/ortho-xylene/ligand.pdb --gen3D -h  > ligands/ortho-xylene/ligand.pdb"
   ]
  },
  {
   "cell_type": "markdown",
   "metadata": {},
   "source": [
    "Next there is already a perapred input file for ortho-xylene! Let's just run the setup!"
   ]
  },
  {
   "cell_type": "code",
   "execution_count": null,
   "metadata": {
    "collapsed": true
   },
   "outputs": [],
   "source": [
    "!FESetup setup-xylene.in"
   ]
  },
  {
   "cell_type": "code",
   "execution_count": null,
   "metadata": {
    "collapsed": true
   },
   "outputs": [],
   "source": []
  },
  {
   "cell_type": "code",
   "execution_count": null,
   "metadata": {
    "collapsed": true
   },
   "outputs": [],
   "source": []
  },
  {
   "cell_type": "code",
   "execution_count": null,
   "metadata": {
    "collapsed": true
   },
   "outputs": [],
   "source": []
  },
  {
   "cell_type": "markdown",
   "metadata": {},
   "source": [
    "## Running MD of Lysozyme with benzene bound\n",
    "We can now use the generated complex to run standard MD simulations. This could be done with different simulation software. Here we will be using Sire's SOMD. In the directory `Task03/simulation` an input file has already been perpared. SOMD takes standard Amber input files as input. Have a look at what has been provided. "
   ]
  },
  {
   "cell_type": "code",
   "execution_count": 15,
   "metadata": {},
   "outputs": [
    {
     "name": "stdout",
     "output_type": "stream",
     "text": [
      "/Users/toni_brain/Projects/git/fesetup_workshop/02_Lysozyme_and_advanced_FESetup_topics/Task03\n"
     ]
    }
   ],
   "source": [
    "cd ../Task03"
   ]
  },
  {
   "cell_type": "code",
   "execution_count": null,
   "metadata": {
    "collapsed": true
   },
   "outputs": [],
   "source": [
    "ls simulation"
   ]
  },
  {
   "cell_type": "markdown",
   "metadata": {},
   "source": [
    "We will take a closer look at the config file. `solvated.rst7` and `solvated.parm7` are the coordinate file and topology file respectively. The complex was prepared with an additional equilibration unsing and NVT and NPT equilibration which has been skipped here. These files are now ready for a production simulation. "
   ]
  },
  {
   "cell_type": "code",
   "execution_count": null,
   "metadata": {
    "collapsed": true
   },
   "outputs": [],
   "source": [
    "!cat sim.cfg"
   ]
  },
  {
   "cell_type": "markdown",
   "metadata": {},
   "source": [
    "As for the simulation, we will run 50 steps of molecular dynamics. "
   ]
  },
  {
   "cell_type": "code",
   "execution_count": null,
   "metadata": {
    "collapsed": true
   },
   "outputs": [],
   "source": []
  },
  {
   "cell_type": "code",
   "execution_count": null,
   "metadata": {
    "collapsed": true
   },
   "outputs": [],
   "source": [
    "## Plot potential energy\n",
    "\n"
   ]
  },
  {
   "cell_type": "code",
   "execution_count": null,
   "metadata": {
    "collapsed": true
   },
   "outputs": [],
   "source": []
  },
  {
   "cell_type": "code",
   "execution_count": null,
   "metadata": {
    "collapsed": true
   },
   "outputs": [],
   "source": [
    "## Visulise the trajectory\n",
    "\n",
    "\n"
   ]
  },
  {
   "cell_type": "markdown",
   "metadata": {},
   "source": [
    "## Setting up ligand with alchemical perturbations"
   ]
  },
  {
   "cell_type": "code",
   "execution_count": null,
   "metadata": {
    "collapsed": true
   },
   "outputs": [],
   "source": [
    "cd ../Task04"
   ]
  },
  {
   "cell_type": "code",
   "execution_count": null,
   "metadata": {
    "collapsed": true
   },
   "outputs": [],
   "source": []
  },
  {
   "cell_type": "markdown",
   "metadata": {},
   "source": [
    "## Advanced topics: explicit mapping and restraints. "
   ]
  },
  {
   "cell_type": "code",
   "execution_count": null,
   "metadata": {
    "collapsed": true
   },
   "outputs": [],
   "source": []
  },
  {
   "cell_type": "code",
   "execution_count": null,
   "metadata": {
    "collapsed": true
   },
   "outputs": [],
   "source": []
  },
  {
   "cell_type": "markdown",
   "metadata": {
    "collapsed": true
   },
   "source": [
    "## A little quizz for the end\n",
    "Please have a quick look at this quizz to see what you have learned from this notebook:\n",
    "https://goo.gl/forms/hSsPTYxnWvKjWj2B3"
   ]
  },
  {
   "cell_type": "code",
   "execution_count": null,
   "metadata": {
    "collapsed": true
   },
   "outputs": [],
   "source": []
  }
 ],
 "metadata": {
  "anaconda-cloud": {},
  "kernelspec": {
   "display_name": "Python 3",
   "language": "python",
   "name": "python3"
  },
  "language_info": {
   "codemirror_mode": {
    "name": "ipython",
    "version": 3
   },
   "file_extension": ".py",
   "mimetype": "text/x-python",
   "name": "python",
   "nbconvert_exporter": "python",
   "pygments_lexer": "ipython3",
   "version": "3.5.3"
  }
 },
 "nbformat": 4,
 "nbformat_minor": 1
}
