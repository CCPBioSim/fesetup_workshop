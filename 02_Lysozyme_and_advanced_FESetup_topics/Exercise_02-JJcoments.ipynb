{
 "cells": [
  {
   "cell_type": "markdown",
   "metadata": {},
   "source": [
    "## Setting up Lysoszyme to run standard MD smulation\n",
    "This notebook will guide you through how to use FESetup for setting up a protein simulation and generate output for various different simulation engines. \n",
    "\n",
    "\n",
    "The notebook forms part of the CCPBio-Sim workshop **Tackling Alchemistry with FESetup and Sire SOMD** run on the 10th of April 2018 at the University of Bristol.\n",
    "\n",
    "*Author: Anotnia Mey   \n",
    "Email: antonia.mey@ed.ac.uk*\n",
    "\n",
    "**Reading time of the document: xx mins**"
   ]
  },
  {
   "cell_type": "code",
   "execution_count": null,
   "metadata": {},
   "outputs": [],
   "source": [
    "#JJ NOTES:\n",
    "#    - The text after cell 6 is incomplete.\n",
    "#    - Cell 10 gives this warning:\n",
    "#        /opt/conda/lib/python3.5/site-packages/pandas/io/parsers.py:2227: FutureWarning: split() requires a non-empty pattern match.\n",
    "#          yield pat.split(line.strip())\n",
    "#        /opt/conda/lib/python3.5/site-packages/pandas/io/parsers.py:2229: FutureWarning: split() requires a non-empty pattern match.\n",
    "#          yield pat.split(line.strip())\n",
    "#    - Cell 10 also does not display the commands to play with the visualization\n",
    "#    - I don´t understand this cell: \"As for the simulation, we will run 50 steps of molecular dynamics.\" \n",
    "#      it seems to run 10 cycles? Or is this the weird SOMD thing?\n",
    "#    - Cell 26 does not seem to pause.\n",
    "#    - Cell 30 returns an error.\n",
    "#    - Not sure is Benzofurane or Benzofuran, but you should pick one (currently is Benzofurane in the notebook and the \n",
    "#     folder is benzofuran)"
   ]
  },
  {
   "cell_type": "markdown",
   "metadata": {},
   "source": [
    "### Imports"
   ]
  },
  {
   "cell_type": "code",
   "execution_count": 1,
   "metadata": {},
   "outputs": [
    {
     "name": "stdout",
     "output_type": "stream",
     "text": [
      "Populating the interactive namespace from numpy and matplotlib\n"
     ]
    }
   ],
   "source": [
    "%pylab inline\n",
    "import nglview as nv\n",
    "import BioSimSpace as BSS"
   ]
  },
  {
   "cell_type": "markdown",
   "metadata": {},
   "source": [
    "## Setting up Lysozyme \n",
    "FESetup has a nice feature, where it will produce compatible output for different MD engines. It currently support *NAMD*, *AMBER*, *Gromacs* and *DLPOLY*, provided the executables for each of the simulation packages are actually installed. In the following we will look at how to set up lysozyme. The first part of this tutorial is found in the directory Task01. "
   ]
  },
  {
   "cell_type": "code",
   "execution_count": 2,
   "metadata": {},
   "outputs": [
    {
     "name": "stdout",
     "output_type": "stream",
     "text": [
      "/home/workshops/fesetup_workshop/02_Lysozyme_and_advanced_FESetup_topics/Task01\n"
     ]
    }
   ],
   "source": [
    "cd Task01"
   ]
  },
  {
   "cell_type": "markdown",
   "metadata": {},
   "source": [
    "Let's start by loading the molecule."
   ]
  },
  {
   "cell_type": "code",
   "execution_count": 3,
   "metadata": {},
   "outputs": [
    {
     "name": "stdout",
     "output_type": "stream",
     "text": [
      "Reading molecules from '['proteins/181L/protein.pdb']'\n",
      "Rendering the molecules...\n"
     ]
    },
    {
     "data": {
      "application/vnd.jupyter.widget-view+json": {
       "model_id": "d15de74b44284a26b26d6be934e5bd59",
       "version_major": 2,
       "version_minor": 0
      },
      "text/html": [
       "<p>Failed to display Jupyter Widget of type <code>NGLWidget</code>.</p>\n",
       "<p>\n",
       "  If you're reading this message in the Jupyter Notebook or JupyterLab Notebook, it may mean\n",
       "  that the widgets JavaScript is still loading. If this message persists, it\n",
       "  likely means that the widgets JavaScript library is either not installed or\n",
       "  not enabled. See the <a href=\"https://ipywidgets.readthedocs.io/en/stable/user_install.html\">Jupyter\n",
       "  Widgets Documentation</a> for setup instructions.\n",
       "</p>\n",
       "<p>\n",
       "  If you're reading this message in another frontend (for example, a static\n",
       "  rendering on GitHub or <a href=\"https://nbviewer.jupyter.org/\">NBViewer</a>),\n",
       "  it may mean that your frontend doesn't currently support widgets.\n",
       "</p>\n"
      ],
      "text/plain": [
       "NGLWidget()"
      ]
     },
     "metadata": {},
     "output_type": "display_data"
    },
    {
     "data": {
      "application/vnd.jupyter.widget-view+json": {
       "model_id": "c2d308cab4db4343925f13ff657f283d",
       "version_major": 2,
       "version_minor": 0
      },
      "text/html": [
       "<p>Failed to display Jupyter Widget of type <code>Tab</code>.</p>\n",
       "<p>\n",
       "  If you're reading this message in the Jupyter Notebook or JupyterLab Notebook, it may mean\n",
       "  that the widgets JavaScript is still loading. If this message persists, it\n",
       "  likely means that the widgets JavaScript library is either not installed or\n",
       "  not enabled. See the <a href=\"https://ipywidgets.readthedocs.io/en/stable/user_install.html\">Jupyter\n",
       "  Widgets Documentation</a> for setup instructions.\n",
       "</p>\n",
       "<p>\n",
       "  If you're reading this message in another frontend (for example, a static\n",
       "  rendering on GitHub or <a href=\"https://nbviewer.jupyter.org/\">NBViewer</a>),\n",
       "  it may mean that your frontend doesn't currently support widgets.\n",
       "</p>\n"
      ],
      "text/plain": [
       "Tab(children=(Box(children=(Box(children=(Box(children=(Label(value='step'), IntSlider(value=1, min=-100)), layout=Layout(display='flex', flex_flow='row', justify_content='space-between')), Box(children=(Label(value='delay'), IntSlider(value=100, max=1000, min=10)), layout=Layout(display='flex', flex_flow='row', justify_content='space-between')), Box(children=(Label(value='background'), ColorPicker(value='white')), layout=Layout(display='flex', flex_flow='row', justify_content='space-between')), Box(children=(Label(value='camera'), Dropdown(options=('perspective', 'orthographic'), value='perspective')), layout=Layout(display='flex', flex_flow='row', justify_content='space-between')), Box(children=(Label(value=''), HBox(children=(ToggleButton(value=False, description='Smoothing', tooltip='smoothing trajectory'), Button(description=' Center', icon='bullseye', style=ButtonStyle()), Button(description=' Screenshot', icon='camera', style=ButtonStyle()), Button(description='qtconsole', style=ButtonStyle(), tooltip='pop up qtconsole')), layout=Layout(flex='1 1 auto', width='auto'))), layout=Layout(display='flex', flex_flow='row', justify_content='space-between'))), layout=Layout(align_items='stretch', display='flex', flex_flow='column', width='100%')),)), Box(), Box(), Box(), Box(), Box()), layout=Layout(align_items='stretch', align_self='center'), _titles={'1': 'Representation', '3': 'Theme', '2': 'Preference', '0': 'General', '5': 'Help', '4': 'Extra'})"
      ]
     },
     "metadata": {},
     "output_type": "display_data"
    },
    {
     "data": {
      "text/plain": [
       "<BioSimSpace.Notebook.view.View at 0x7f296814ee80>"
      ]
     },
     "execution_count": 3,
     "metadata": {},
     "output_type": "execute_result"
    }
   ],
   "source": [
    "view = BSS.viewMolecules('proteins/181L/protein.pdb')\n",
    "view"
   ]
  },
  {
   "cell_type": "markdown",
   "metadata": {},
   "source": [
    "As for the ethane methanol simulations we have an input file for FESetup. This time it has a new section named [protein]. This contains all the relevant options for setting up a protein simulation. Let's have a look at this very basic setup file. "
   ]
  },
  {
   "cell_type": "code",
   "execution_count": 4,
   "metadata": {},
   "outputs": [
    {
     "name": "stdout",
     "output_type": "stream",
     "text": [
      "# T4-lysozyme: setup\r\n",
      "\r\n",
      "logfile = T4-lysozyme_molsetup.log\r\n",
      "forcefield = amber, ff14SB, tip3p, cm\r\n",
      "\r\n",
      "mdengine = amber, sander\r\n",
      "\r\n",
      "# prepare the biomolecules (could also be DNA for example)\r\n",
      "[protein]\r\n",
      "basedir = proteins\r\n",
      "molecules = 181L \r\n",
      "neutralize = True \r\n",
      "\r\n",
      "box.type = rectangular\r\n",
      "box.length = 12.0\r\n",
      "align_axes = True\r\n",
      "\r\n",
      "min.nsteps = 200\r\n",
      "min.ncyc = 100\r\n",
      "\r\n"
     ]
    }
   ],
   "source": [
    "!head -n 30 setup.in"
   ]
  },
  {
   "cell_type": "markdown",
   "metadata": {},
   "source": [
    "We want to put the protein 181L into a box of length 12 Å, add some solvent, neutralize the box and run a set of minimisation steps. Executing this will generate the ouptut file `_proteins` which will contain the minimised protein structure. "
   ]
  },
  {
   "cell_type": "code",
   "execution_count": 5,
   "metadata": {},
   "outputs": [
    {
     "name": "stdout",
     "output_type": "stream",
     "text": [
      "\n",
      "=== FESetup release 1.2.1, SUI version: 0.8.3 ===\n",
      "\n",
      "Please cite: HH Loeffler, J Michel, C Woods, J Chem Inf Mod, 55, 2485\n",
      "             DOI 10.1021/acs.jcim.5b00368\n",
      "For more information please visit http://www.ccpbiosim.ac.uk/fesetup/\n",
      "\n",
      "Making biomolecule 181L...\n",
      "\n",
      "=== All molecules built successfully ===\n",
      "\n"
     ]
    }
   ],
   "source": [
    "!FESetup setup.in"
   ]
  },
  {
   "cell_type": "code",
   "execution_count": 6,
   "metadata": {},
   "outputs": [
    {
     "name": "stdout",
     "output_type": "stream",
     "text": [
      "leap.log     min00001.info  protein.pdb     solvated.rst7  vacuum.rst7\r\n",
      "min00001.en  min00001.out   solvated.parm7  vacuum.parm7\r\n",
      "min00001.in  min00001.rst7  solvated.pdb    vacuum.pdb\r\n"
     ]
    }
   ],
   "source": [
    "ls _proteins/181L"
   ]
  },
  {
   "cell_type": "markdown",
   "metadata": {},
   "source": [
    "This directory now contains your solvated protein ready for an equilibration or any other type of simulation run. This is the simplest way of preparing a protein simulation. Of course you can again use "
   ]
  },
  {
   "cell_type": "markdown",
   "metadata": {},
   "source": [
    "### Setup with Gromacs\n",
    "We can use the same setup to run with gromacs by simply changing the line specifying the MD engine:   \n",
    "`\n",
    "mdengine = gromacs, mdrun\n",
    "`   \n",
    "If Gromacs is not installed the setup will fail. This is currently the case on this server, but we can still run an example file until we get the error. This time we use `182L` for the setup. "
   ]
  },
  {
   "cell_type": "code",
   "execution_count": 7,
   "metadata": {},
   "outputs": [
    {
     "name": "stdout",
     "output_type": "stream",
     "text": [
      "\n",
      "=== FESetup release 1.2.1, SUI version: 0.8.3 ===\n",
      "\n",
      "Please cite: HH Loeffler, J Michel, C Woods, J Chem Inf Mod, 55, 2485\n",
      "             DOI 10.1021/acs.jcim.5b00368\n",
      "For more information please visit http://www.ccpbiosim.ac.uk/fesetup/\n",
      "\n",
      "Making biomolecule 182L...\n",
      "ERROR: 182L failed: GMXHOME does not have a bin directory\n",
      "ERROR: The following proteins have failed:\n",
      " 182L\n"
     ]
    }
   ],
   "source": [
    "!FESetup setup_gromacs.in"
   ]
  },
  {
   "cell_type": "markdown",
   "metadata": {},
   "source": [
    "While we have recieed an error, because we don't have Gromacs installed and can't run the minimisation, we can have a look in the `_proteins/182L` directory. You will find it contains a `solvated.gro` and `solvated.top` file, which are the Gromacs coordinate and topology files respectively and can be used to run your simulation elsewhere.  "
   ]
  },
  {
   "cell_type": "code",
   "execution_count": 8,
   "metadata": {},
   "outputs": [
    {
     "name": "stdout",
     "output_type": "stream",
     "text": [
      "leap.log     solvated.gro    solvated.pdb   solvated.top  vacuum.pdb\r\n",
      "protein.pdb  solvated.parm7  solvated.rst7  vacuum.parm7  vacuum.rst7\r\n"
     ]
    }
   ],
   "source": [
    "ls _proteins/182L"
   ]
  },
  {
   "cell_type": "markdown",
   "metadata": {},
   "source": [
    "**Task: What would you have to change in `setup.in` to prepare files compatible with NAMD?**"
   ]
  },
  {
   "cell_type": "markdown",
   "metadata": {},
   "source": [
    "## Setting up Lysozyme with a ligand \n",
    "Setting up a single protein isn't necessarily such a complcated task. But setting up a protein and a ligand together might require more effort. We will often lack compatible parameters and partial charges and generating them by hand can be cumbersome. FESetup can help with this. Let's look at Task02 working with both protein and ligand. "
   ]
  },
  {
   "cell_type": "markdown",
   "metadata": {},
   "source": [
    "### Benzene as a ligand of Lysozyme"
   ]
  },
  {
   "cell_type": "code",
   "execution_count": 9,
   "metadata": {},
   "outputs": [
    {
     "name": "stdout",
     "output_type": "stream",
     "text": [
      "/home/workshops/fesetup_workshop/02_Lysozyme_and_advanced_FESetup_topics/Task02\n"
     ]
    }
   ],
   "source": [
    "cd ../Task02"
   ]
  },
  {
   "cell_type": "markdown",
   "metadata": {
    "collapsed": true
   },
   "source": [
    "You now have a proteins and ligands directory. The proteins directory contains again the structure of 181L and the ligands directory that of benzene.    \n",
    "\n",
    "**Task: visualise both the protein and the ligand to make sure that the ligand has the right coordinates**"
   ]
  },
  {
   "cell_type": "code",
   "execution_count": 12,
   "metadata": {},
   "outputs": [
    {
     "name": "stderr",
     "output_type": "stream",
     "text": [
      "/opt/conda/lib/python3.5/site-packages/pandas/io/parsers.py:2227: FutureWarning: split() requires a non-empty pattern match.\n",
      "  yield pat.split(line.strip())\n",
      "/opt/conda/lib/python3.5/site-packages/pandas/io/parsers.py:2229: FutureWarning: split() requires a non-empty pattern match.\n",
      "  yield pat.split(line.strip())\n"
     ]
    },
    {
     "data": {
      "application/vnd.jupyter.widget-view+json": {
       "model_id": "b372f3f99c9641c8bda44029a1151511",
       "version_major": 2,
       "version_minor": 0
      },
      "text/html": [
       "<p>Failed to display Jupyter Widget of type <code>NGLWidget</code>.</p>\n",
       "<p>\n",
       "  If you're reading this message in the Jupyter Notebook or JupyterLab Notebook, it may mean\n",
       "  that the widgets JavaScript is still loading. If this message persists, it\n",
       "  likely means that the widgets JavaScript library is either not installed or\n",
       "  not enabled. See the <a href=\"https://ipywidgets.readthedocs.io/en/stable/user_install.html\">Jupyter\n",
       "  Widgets Documentation</a> for setup instructions.\n",
       "</p>\n",
       "<p>\n",
       "  If you're reading this message in another frontend (for example, a static\n",
       "  rendering on GitHub or <a href=\"https://nbviewer.jupyter.org/\">NBViewer</a>),\n",
       "  it may mean that your frontend doesn't currently support widgets.\n",
       "</p>\n"
      ],
      "text/plain": [
       "NGLWidget()"
      ]
     },
     "metadata": {},
     "output_type": "display_data"
    }
   ],
   "source": [
    "#change appropriate code below\n",
    "import mdtraj as md\n",
    "protein = md.load('proteins/181L/protein.pdb')\n",
    "ligand = md.load('ligands/benzene/ligand.mol2')\n",
    "from nglview import NGLWidget\n",
    "view = NGLWidget()\n",
    "view.add_trajectory(protein)\n",
    "view.add_trajectory(ligand)\n",
    "view"
   ]
  },
  {
   "cell_type": "markdown",
   "metadata": {
    "collapsed": true
   },
   "source": [
    "Now we want to actually greate a complex of the ligand and protein and solvate it. For this there is another `setup.in` file prepared. Let's look at this file a bit more closely:"
   ]
  },
  {
   "cell_type": "code",
   "execution_count": 13,
   "metadata": {},
   "outputs": [
    {
     "name": "stdout",
     "output_type": "stream",
     "text": [
      "# T4-lysozyme: \r\n",
      "\r\n",
      "logfile = T4-lysozyme_molsetup.log\r\n",
      "forcefield = amber, ff14SB, tip3p, cm\r\n",
      "\r\n",
      "mdengine = amber, sander\r\n",
      "\r\n",
      "#setus up ligand benzene in a solvated box and in vacuum\r\n",
      "[ligand]\r\n",
      "basedir = ligands\r\n",
      "file.name = ligand.mol2\r\n",
      "molecules = benzene\r\n",
      "\r\n",
      "box.type = rectangular\r\n",
      "box.length = 12.0\r\n",
      "neutralize = yes\r\n",
      "min.nsteps = 100\r\n",
      "\r\n",
      "# prepare the biomolecules (could also be DNA for example)\r\n",
      "[protein]\r\n",
      "basedir = proteins\r\n",
      "molecules = 181L \r\n",
      "neutralize = True\r\n",
      "\r\n",
      "\r\n",
      "# create the complex form the ligands and proteins above, solvate and minimise\r\n",
      "# the complexes\r\n",
      "[complex]\r\n",
      "# explicit enumeration of pairs, otherwise all-with-all creation even\r\n",
      "# when there is no [complex] section\r\n",
      "pairs = 181L : benzene\r\n",
      "\r\n",
      "box.type = rectangular\r\n",
      "box.length = 12.0\r\n",
      "align_axes = True\r\n",
      "\r\n",
      "min.nsteps = 200\r\n",
      "min.ncyc = 100\r\n",
      "\r\n"
     ]
    }
   ],
   "source": [
    "!cat setup.in"
   ]
  },
  {
   "cell_type": "markdown",
   "metadata": {},
   "source": [
    "We again have a [ligand] section which defines the molecule and also makes sure that benzene will be set up in a solvation box. Then again a [protein] section,and in addition there is now a [complex] section, which defines the fact that we want to create a complex of 181L and benzene in a box and solvate and minimise it. "
   ]
  },
  {
   "cell_type": "code",
   "execution_count": 14,
   "metadata": {},
   "outputs": [
    {
     "name": "stdout",
     "output_type": "stream",
     "text": [
      "\n",
      "=== FESetup release 1.2.1, SUI version: 0.8.3 ===\n",
      "\n",
      "Please cite: HH Loeffler, J Michel, C Woods, J Chem Inf Mod, 55, 2485\n",
      "             DOI 10.1021/acs.jcim.5b00368\n",
      "For more information please visit http://www.ccpbiosim.ac.uk/fesetup/\n",
      "\n",
      "Making biomolecule 181L...\n",
      "Making ligand benzene...\n",
      "Making complex from 181L and benzene...\n",
      "\n",
      "=== All molecules built successfully ===\n",
      "\n"
     ]
    }
   ],
   "source": [
    "# Insert the code here to run the setup. \n",
    "!FESetup setup.in"
   ]
  },
  {
   "cell_type": "code",
   "execution_count": 15,
   "metadata": {},
   "outputs": [
    {
     "name": "stdout",
     "output_type": "stream",
     "text": [
      "gaff.mol2      ligand.mol2    min00001.out     not_first.rst7  solvated.rst7\r\n",
      "leap.log       min00001.en    min00001.rst7    protein.pdb     vacuum.parm7\r\n",
      "ligand.ac      min00001.in    not_first.parm7  solvated.parm7  vacuum.pdb\r\n",
      "ligand.frcmod  min00001.info  not_first.pdb    solvated.pdb    vacuum.rst7\r\n"
     ]
    }
   ],
   "source": [
    "ls _complexes/181L:benzene/"
   ]
  },
  {
   "cell_type": "markdown",
   "metadata": {},
   "source": [
    "Now you should be able to located a directory called `_complex` that was generated by FESetup. It should contain the complex in vacuum and in solvent. "
   ]
  },
  {
   "cell_type": "code",
   "execution_count": 16,
   "metadata": {},
   "outputs": [
    {
     "name": "stdout",
     "output_type": "stream",
     "text": [
      "Reading molecules from '['_complexes/181L:benzene/vacuum.pdb']'\n",
      "Rendering the molecules...\n"
     ]
    },
    {
     "data": {
      "application/vnd.jupyter.widget-view+json": {
       "model_id": "c818deeca90944f89615c64c02e814da",
       "version_major": 2,
       "version_minor": 0
      },
      "text/html": [
       "<p>Failed to display Jupyter Widget of type <code>NGLWidget</code>.</p>\n",
       "<p>\n",
       "  If you're reading this message in the Jupyter Notebook or JupyterLab Notebook, it may mean\n",
       "  that the widgets JavaScript is still loading. If this message persists, it\n",
       "  likely means that the widgets JavaScript library is either not installed or\n",
       "  not enabled. See the <a href=\"https://ipywidgets.readthedocs.io/en/stable/user_install.html\">Jupyter\n",
       "  Widgets Documentation</a> for setup instructions.\n",
       "</p>\n",
       "<p>\n",
       "  If you're reading this message in another frontend (for example, a static\n",
       "  rendering on GitHub or <a href=\"https://nbviewer.jupyter.org/\">NBViewer</a>),\n",
       "  it may mean that your frontend doesn't currently support widgets.\n",
       "</p>\n"
      ],
      "text/plain": [
       "NGLWidget()"
      ]
     },
     "metadata": {},
     "output_type": "display_data"
    },
    {
     "data": {
      "application/vnd.jupyter.widget-view+json": {
       "model_id": "5fb2cc8b87ba4a20bb9bdb74b2d584ec",
       "version_major": 2,
       "version_minor": 0
      },
      "text/html": [
       "<p>Failed to display Jupyter Widget of type <code>Tab</code>.</p>\n",
       "<p>\n",
       "  If you're reading this message in the Jupyter Notebook or JupyterLab Notebook, it may mean\n",
       "  that the widgets JavaScript is still loading. If this message persists, it\n",
       "  likely means that the widgets JavaScript library is either not installed or\n",
       "  not enabled. See the <a href=\"https://ipywidgets.readthedocs.io/en/stable/user_install.html\">Jupyter\n",
       "  Widgets Documentation</a> for setup instructions.\n",
       "</p>\n",
       "<p>\n",
       "  If you're reading this message in another frontend (for example, a static\n",
       "  rendering on GitHub or <a href=\"https://nbviewer.jupyter.org/\">NBViewer</a>),\n",
       "  it may mean that your frontend doesn't currently support widgets.\n",
       "</p>\n"
      ],
      "text/plain": [
       "Tab(children=(Box(children=(Box(children=(Box(children=(Label(value='step'), IntSlider(value=1, min=-100)), layout=Layout(display='flex', flex_flow='row', justify_content='space-between')), Box(children=(Label(value='delay'), IntSlider(value=100, max=1000, min=10)), layout=Layout(display='flex', flex_flow='row', justify_content='space-between')), Box(children=(Label(value='background'), ColorPicker(value='white')), layout=Layout(display='flex', flex_flow='row', justify_content='space-between')), Box(children=(Label(value='camera'), Dropdown(options=('perspective', 'orthographic'), value='perspective')), layout=Layout(display='flex', flex_flow='row', justify_content='space-between')), Box(children=(Label(value=''), HBox(children=(ToggleButton(value=False, description='Smoothing', tooltip='smoothing trajectory'), Button(description=' Center', icon='bullseye', style=ButtonStyle()), Button(description=' Screenshot', icon='camera', style=ButtonStyle()), Button(description='qtconsole', style=ButtonStyle(), tooltip='pop up qtconsole')), layout=Layout(flex='1 1 auto', width='auto'))), layout=Layout(display='flex', flex_flow='row', justify_content='space-between'))), layout=Layout(align_items='stretch', display='flex', flex_flow='column', width='100%')),)), Box(), Box(), Box(), Box(), Box()), layout=Layout(align_items='stretch', align_self='center'), _titles={'1': 'Representation', '3': 'Theme', '2': 'Preference', '0': 'General', '5': 'Help', '4': 'Extra'})"
      ]
     },
     "metadata": {},
     "output_type": "display_data"
    }
   ],
   "source": [
    "# Insert code to visualise the complex in vacuum\n",
    "view = BSS.viewMolecules('_complexes/181L:benzene/vacuum.pdb')\n"
   ]
  },
  {
   "cell_type": "markdown",
   "metadata": {},
   "source": [
    "**Tip: Play around with the representations in order to be able to view both the ligand and the protein**"
   ]
  },
  {
   "cell_type": "markdown",
   "metadata": {
    "collapsed": true
   },
   "source": [
    "## Butylbenzene as a ligand of Lysosyme\n",
    "Often you are in a position where you might want to run a simulation with a ligand where you only have a smiles string or sdf file. So how can we go from a smiles file to a solvated complex? One easy way to do this is using babel. \n",
    "Take a look at `ligands/ortho-xylene/ligand.smi`. This file contains the following smiles string: `CC1=C(C)C=CC=C1`. What we need to do it generate a 3D structure.   \n",
    "\n",
    "The next cell uses babel to convert the input smiles string to a 3D structure of format mol2. "
   ]
  },
  {
   "cell_type": "code",
   "execution_count": 17,
   "metadata": {},
   "outputs": [
    {
     "name": "stdout",
     "output_type": "stream",
     "text": [
      "1 molecule converted\r\n"
     ]
    }
   ],
   "source": [
    "!obabel -ismi ligands/ortho-xylene/ligand.smi  -opdb ligands/ortho-xylene/ligand.pdb --gen3D -h  > ligands/ortho-xylene/ligand.pdb"
   ]
  },
  {
   "cell_type": "markdown",
   "metadata": {},
   "source": [
    "Double check that the ligand molecule has been generated!"
   ]
  },
  {
   "cell_type": "markdown",
   "metadata": {},
   "source": [
    "Next there is already a perapred input file for ortho-xylene! Let's just run the setup!"
   ]
  },
  {
   "cell_type": "code",
   "execution_count": 18,
   "metadata": {},
   "outputs": [
    {
     "name": "stdout",
     "output_type": "stream",
     "text": [
      "\n",
      "=== FESetup release 1.2.1, SUI version: 0.8.3 ===\n",
      "\n",
      "Please cite: HH Loeffler, J Michel, C Woods, J Chem Inf Mod, 55, 2485\n",
      "             DOI 10.1021/acs.jcim.5b00368\n",
      "For more information please visit http://www.ccpbiosim.ac.uk/fesetup/\n",
      "\n",
      "Making biomolecule 181L...\n",
      "Making ligand ortho-xylene...\n",
      "Making complex from 181L and ortho-xylene...\n",
      "\n",
      "=== All molecules built successfully ===\n",
      "\n"
     ]
    }
   ],
   "source": [
    "!FESetup setup_xylene.in"
   ]
  },
  {
   "cell_type": "markdown",
   "metadata": {
    "collapsed": true
   },
   "source": [
    "Let's have a look at the generated complex for ortho-xylene. There seems to be a problem with the way the ligand is positioned!"
   ]
  },
  {
   "cell_type": "code",
   "execution_count": 19,
   "metadata": {},
   "outputs": [
    {
     "name": "stdout",
     "output_type": "stream",
     "text": [
      "Reading molecules from '['_complexes/181L:ortho-xylene/vacuum.pdb']'\n",
      "Rendering the molecules...\n"
     ]
    },
    {
     "data": {
      "application/vnd.jupyter.widget-view+json": {
       "model_id": "09e3c8aec77341b389430f7f623bb24f",
       "version_major": 2,
       "version_minor": 0
      },
      "text/html": [
       "<p>Failed to display Jupyter Widget of type <code>NGLWidget</code>.</p>\n",
       "<p>\n",
       "  If you're reading this message in the Jupyter Notebook or JupyterLab Notebook, it may mean\n",
       "  that the widgets JavaScript is still loading. If this message persists, it\n",
       "  likely means that the widgets JavaScript library is either not installed or\n",
       "  not enabled. See the <a href=\"https://ipywidgets.readthedocs.io/en/stable/user_install.html\">Jupyter\n",
       "  Widgets Documentation</a> for setup instructions.\n",
       "</p>\n",
       "<p>\n",
       "  If you're reading this message in another frontend (for example, a static\n",
       "  rendering on GitHub or <a href=\"https://nbviewer.jupyter.org/\">NBViewer</a>),\n",
       "  it may mean that your frontend doesn't currently support widgets.\n",
       "</p>\n"
      ],
      "text/plain": [
       "NGLWidget()"
      ]
     },
     "metadata": {},
     "output_type": "display_data"
    },
    {
     "data": {
      "application/vnd.jupyter.widget-view+json": {
       "model_id": "251f4b4c902640f080f020aed3ba052e",
       "version_major": 2,
       "version_minor": 0
      },
      "text/html": [
       "<p>Failed to display Jupyter Widget of type <code>Tab</code>.</p>\n",
       "<p>\n",
       "  If you're reading this message in the Jupyter Notebook or JupyterLab Notebook, it may mean\n",
       "  that the widgets JavaScript is still loading. If this message persists, it\n",
       "  likely means that the widgets JavaScript library is either not installed or\n",
       "  not enabled. See the <a href=\"https://ipywidgets.readthedocs.io/en/stable/user_install.html\">Jupyter\n",
       "  Widgets Documentation</a> for setup instructions.\n",
       "</p>\n",
       "<p>\n",
       "  If you're reading this message in another frontend (for example, a static\n",
       "  rendering on GitHub or <a href=\"https://nbviewer.jupyter.org/\">NBViewer</a>),\n",
       "  it may mean that your frontend doesn't currently support widgets.\n",
       "</p>\n"
      ],
      "text/plain": [
       "Tab(children=(Box(children=(Box(children=(Box(children=(Label(value='step'), IntSlider(value=1, min=-100)), layout=Layout(display='flex', flex_flow='row', justify_content='space-between')), Box(children=(Label(value='delay'), IntSlider(value=100, max=1000, min=10)), layout=Layout(display='flex', flex_flow='row', justify_content='space-between')), Box(children=(Label(value='background'), ColorPicker(value='white')), layout=Layout(display='flex', flex_flow='row', justify_content='space-between')), Box(children=(Label(value='camera'), Dropdown(options=('perspective', 'orthographic'), value='perspective')), layout=Layout(display='flex', flex_flow='row', justify_content='space-between')), Box(children=(Label(value=''), HBox(children=(ToggleButton(value=False, description='Smoothing', tooltip='smoothing trajectory'), Button(description=' Center', icon='bullseye', style=ButtonStyle()), Button(description=' Screenshot', icon='camera', style=ButtonStyle()), Button(description='qtconsole', style=ButtonStyle(), tooltip='pop up qtconsole')), layout=Layout(flex='1 1 auto', width='auto'))), layout=Layout(display='flex', flex_flow='row', justify_content='space-between'))), layout=Layout(align_items='stretch', display='flex', flex_flow='column', width='100%')),)), Box(), Box(), Box(), Box(), Box()), layout=Layout(align_items='stretch', align_self='center'), _titles={'1': 'Representation', '3': 'Theme', '2': 'Preference', '0': 'General', '5': 'Help', '4': 'Extra'})"
      ]
     },
     "metadata": {},
     "output_type": "display_data"
    }
   ],
   "source": [
    "view = BSS.viewMolecules('_complexes/181L:ortho-xylene/vacuum.pdb')"
   ]
  },
  {
   "cell_type": "markdown",
   "metadata": {
    "collapsed": true
   },
   "source": [
    "**Questions: Can you think of ways to align the ligand to the correct binding site of the protein? Write down a few ideas in the next cell:**"
   ]
  },
  {
   "cell_type": "markdown",
   "metadata": {},
   "source": [
    "\n",
    "\n",
    "\n",
    "\n"
   ]
  },
  {
   "cell_type": "markdown",
   "metadata": {},
   "source": [
    "**Advanced task**: *Come back to this if you still have time at the end of the tutorial and implement a way to put xylene in an appropirate position in the binding site. Alternative the BioSimSpace Workshop will cover an easy way of how to do this.*"
   ]
  },
  {
   "cell_type": "markdown",
   "metadata": {},
   "source": [
    "## Running MD of Lysozyme with benzene bound\n",
    "We can now use the generated complex files to run standard MD simulations. This could be done with different simulation software. Here we will be using Sire's SOMD. In the directory `Task03/simulation` an input file has already been perpared. SOMD takes standard Amber input files as input. Have a look at what has been provided. "
   ]
  },
  {
   "cell_type": "code",
   "execution_count": 22,
   "metadata": {},
   "outputs": [
    {
     "name": "stdout",
     "output_type": "stream",
     "text": [
      "/home/workshops/fesetup_workshop/02_Lysozyme_and_advanced_FESetup_topics/Task03\n"
     ]
    }
   ],
   "source": [
    "cd ../Task03"
   ]
  },
  {
   "cell_type": "code",
   "execution_count": 23,
   "metadata": {},
   "outputs": [
    {
     "data": {
      "text/plain": [
       "'/home/workshops/fesetup_workshop/02_Lysozyme_and_advanced_FESetup_topics/Task03'"
      ]
     },
     "execution_count": 23,
     "metadata": {},
     "output_type": "execute_result"
    }
   ],
   "source": [
    "pwd"
   ]
  },
  {
   "cell_type": "markdown",
   "metadata": {},
   "source": [
    "We will take a closer look at the config file. `solvated.rst7` and `solvated.parm7` are the coordinate file and topology file respectively. The complex was prepared with an NVT heating and an NPT equilibration which we skipped during task two to avoid very long waiting times for molecular struactures to be generated. Prepping these kind of files on a cluster or powerful computer should only take a few minutes though. For convenience please use the files we provided and are ready for a production simulation. "
   ]
  },
  {
   "cell_type": "code",
   "execution_count": 24,
   "metadata": {},
   "outputs": [
    {
     "name": "stdout",
     "output_type": "stream",
     "text": [
      "# Length of simulation and platform\r\n",
      "nmoves = 10 \r\n",
      "ncycles = 10 # 10 moves x 10 cycles x 2fs = 200fs \r\n",
      "platform = CPU\r\n",
      "# Input files \r\n",
      "topfile = solvated.parm7 \r\n",
      "crdfile = solvated.rst7 \r\n",
      "\r\n",
      "#Potential energy function parameters\r\n",
      "cutoff type = cutoffperiodic \r\n",
      "cutoff distance = 10 * angstrom \r\n",
      "reaction field dielectric = 78.3 \r\n",
      "# Beyond cutoff is uniform with this dielectric constant\r\n",
      "#shift delta = 2.0 \r\n",
      "# MD integration parameters\r\n",
      "timestep = 2 * femtosecond \r\n",
      "constraint = hbonds \r\n",
      "integrator type = leapfrogverlet \r\n",
      "center of mass frequency = 10\r\n",
      "# Temperature/Pressure control\r\n",
      "temperature = 298.15 * kelvin \r\n",
      "pressure = 1 * atm \r\n",
      "andersen = True \r\n",
      "andersen frequency = 10 \r\n",
      "barostat = True \r\n",
      "barostat frequency = 25\r\n",
      "# Equilibration protocol\r\n",
      "minimise = False # False if already minimised.\r\n",
      "# Output control\r\n",
      "save coordinates = True \r\n",
      "buffered coordinates frequency = 0 #save every frame \r\n",
      "# 10 moves x 10 cycles = 100.\r\n",
      "# Snapshots =100/10 = 10 snapshots.\r\n"
     ]
    }
   ],
   "source": [
    "!cat sim.cfg"
   ]
  },
  {
   "cell_type": "markdown",
   "metadata": {},
   "source": [
    "The above runs 200 fs of molecular dynamics for the protein benzene complex using the NPT ensemble. Most directives of the config files should be quite self explanatory. the buffered coordinates frequency set to 0 means that every single frame is saved which is fine for a simulation of 100 frames. The executable for running straight up MD simulations is `somd` and comes with Sire. Usually it is adviced to have the platform set to `CUDA` or `OpenCL` as `somd` uses `OpenMM` to accelrate integration on a GPU. This cloud server does not have any GPUs available, therefore we must default to the CPU platform. "
   ]
  },
  {
   "cell_type": "code",
   "execution_count": 25,
   "metadata": {},
   "outputs": [
    {
     "name": "stdout",
     "output_type": "stream",
     "text": [
      "Starting somd: number of threads equals 8\n",
      "\n",
      "Loading configuration information from file sim.cfg\n",
      "Using parameters:\n",
      "===============\n",
      "# 10 moves x 10 cycles == 100.0\n",
      "# Snapshots == 100/10 = 10 snapshots.\n",
      "#shift delta == 2.0\n",
      "andersen == True\n",
      "andersen frequency == 10\n",
      "barostat == True\n",
      "barostat frequency == 25\n",
      "buffered coordinates frequency == 0\n",
      "center of mass frequency == 10\n",
      "constraint == hbonds\n",
      "crdfile == solvated.rst7\n",
      "cutoff distance == 10 angstrom\n",
      "cutoff type == cutoffperiodic\n",
      "integrator type == leapfrogverlet\n",
      "minimise == False\n",
      "ncycles == 10\n",
      "nmoves == 10\n",
      "platform == CPU\n",
      "pressure == 1 atm\n",
      "reaction field dielectric == 78.3\n",
      "save coordinates == True\n",
      "temperature == 298.15 t\n",
      "timestep == 0.002 ps\n",
      "topfile == solvated.parm7\n",
      "===============\n",
      "\n",
      "### Running Molecular Dynamics simulation on jupyter-597366bb-2d3d6b-2d43a8-2dbb46-2d7116f6e34cd3 ###\n",
      "###================Setting up calculation=====================###\n",
      "New run. Loading input and creating restart\n",
      "Creating the system...\n",
      "Creating force fields... \n",
      "Setting up the simulation with random seed 822045\n",
      "Setting up moves...\n",
      "Created a MD move that uses OpenMM for all molecules on 0 \n",
      "Generated random seed number 822045 \n",
      "Saving restart\n",
      "There are 29441 atoms in the group \n",
      "###===========================================================###\n",
      "\n",
      "###=======================somd run============================###\n",
      "Starting somd run...\n",
      "10 moves 10 cycles, 0.2 ps simulation time\n",
      "\n",
      "Cycle =  1\n",
      "\n",
      "Cycle =  2\n",
      "\n",
      "Cycle =  3\n",
      "\n",
      "Cycle =  4\n",
      "\n",
      "Cycle =  5\n",
      "\n",
      "Cycle =  6\n",
      "\n",
      "Cycle =  7\n",
      "\n",
      "Cycle =  8\n",
      "\n",
      "Cycle =  9\n",
      "\n",
      "Cycle =  10\n",
      "Simulation took 296 s \n",
      "Saving restart\n"
     ]
    }
   ],
   "source": [
    "!somd -C sim.cfg"
   ]
  },
  {
   "cell_type": "markdown",
   "metadata": {},
   "source": [
    "As for the simulation, we will run 50 steps of molecular dynamics. "
   ]
  },
  {
   "cell_type": "code",
   "execution_count": 26,
   "metadata": {},
   "outputs": [
    {
     "data": {
      "application/vnd.jupyter.widget-view+json": {
       "model_id": "d2c9a44ab43f4f28979ae97d02f4de13",
       "version_major": 2,
       "version_minor": 0
      },
      "text/html": [
       "<p>Failed to display Jupyter Widget of type <code>NGLWidget</code>.</p>\n",
       "<p>\n",
       "  If you're reading this message in the Jupyter Notebook or JupyterLab Notebook, it may mean\n",
       "  that the widgets JavaScript is still loading. If this message persists, it\n",
       "  likely means that the widgets JavaScript library is either not installed or\n",
       "  not enabled. See the <a href=\"https://ipywidgets.readthedocs.io/en/stable/user_install.html\">Jupyter\n",
       "  Widgets Documentation</a> for setup instructions.\n",
       "</p>\n",
       "<p>\n",
       "  If you're reading this message in another frontend (for example, a static\n",
       "  rendering on GitHub or <a href=\"https://nbviewer.jupyter.org/\">NBViewer</a>),\n",
       "  it may mean that your frontend doesn't currently support widgets.\n",
       "</p>\n"
      ],
      "text/plain": [
       "NGLWidget(count=10)"
      ]
     },
     "metadata": {},
     "output_type": "display_data"
    }
   ],
   "source": [
    "protein = md.load('traj000000001.dcd', top='solvated.pdb')\n",
    "view = NGLWidget()\n",
    "view.add_trajectory(protein)\n",
    "view"
   ]
  },
  {
   "cell_type": "code",
   "execution_count": 27,
   "metadata": {},
   "outputs": [
    {
     "name": "stdout",
     "output_type": "stream",
     "text": [
      "<mdtraj.Trajectory with 10 frames, 29441 atoms, 9105 residues, and unitcells>\n"
     ]
    }
   ],
   "source": [
    "print (protein)"
   ]
  },
  {
   "cell_type": "markdown",
   "metadata": {
    "collapsed": true
   },
   "source": [
    "**Advanced Task: Can you compute and plot the RMSD of the benzene ligands over the saved coordinates?**"
   ]
  },
  {
   "cell_type": "code",
   "execution_count": 28,
   "metadata": {},
   "outputs": [],
   "source": [
    "#Insert code for advance task here\n",
    "\n"
   ]
  },
  {
   "cell_type": "markdown",
   "metadata": {},
   "source": [
    "## Setting up ligand perturbations with a protein\n",
    "If you want to compute relative binding free energies of a set of ligands to a protein using an alchemical approach you will need to generate a pertubration map. In Task04 you will generate a set of ligands that are all similar and you need to define a perturbation map for them. Just think of what was discussed in the lecture in terms of perturbation maps. You want:\n",
    "- many cycles, to make sure you can calculate robustness\n",
    "- easy perturbations, avoid breaking large rings, if needed add intermediates\n",
    "- always consider forward and backward perturbations. "
   ]
  },
  {
   "cell_type": "code",
   "execution_count": 29,
   "metadata": {},
   "outputs": [
    {
     "name": "stdout",
     "output_type": "stream",
     "text": [
      "/home/workshops/fesetup_workshop/02_Lysozyme_and_advanced_FESetup_topics/Task04\n"
     ]
    }
   ],
   "source": [
    "cd ../Task04"
   ]
  },
  {
   "cell_type": "code",
   "execution_count": 30,
   "metadata": {},
   "outputs": [
    {
     "name": "stdout",
     "output_type": "stream",
     "text": [
      "ls: cannot access 'images/': No such file or directory\r\n"
     ]
    }
   ],
   "source": [
    "ls images/"
   ]
  },
  {
   "cell_type": "markdown",
   "metadata": {
    "collapsed": true
   },
   "source": [
    "We have the following ligands:\n",
    "- indene,\n",
    "- benzene,\n",
    "- benzofurane\n",
    "- indole\n",
    "- o-xylene\n",
    "- p-xylene\n",
    "Have a look at their structures:\n",
    "![foo](images/structures.png)\n",
    "\n",
    "Tasks:\n",
    "1. Can you change molsetup.in in such a way that all molecules are setup with FESetup and a complex is created the 181L structure without running a proper equilibration to avoid long execution times. \n",
    "2. can you suggest a set of perturbations and add them to morph.in to generate a perturbation map that is sensible in order to assess relative binding free energies of the above 6 molecules. \n",
    "3. Make sure you run molsetup.in and morph.in setup and look at the generated `_perturbations` directory which can then be used for running somd alchemical free energy calculations"
   ]
  },
  {
   "cell_type": "code",
   "execution_count": 33,
   "metadata": {},
   "outputs": [
    {
     "name": "stdout",
     "output_type": "stream",
     "text": [
      "\n",
      "=== FESetup release 1.2.1, SUI version: 0.8.3 ===\n",
      "\n",
      "Please cite: HH Loeffler, J Michel, C Woods, J Chem Inf Mod, 55, 2485\n",
      "             DOI 10.1021/acs.jcim.5b00368\n",
      "For more information please visit http://www.ccpbiosim.ac.uk/fesetup/\n",
      "\n",
      "Making biomolecule 181L...\n",
      "Making ligand benzofurane...\n",
      "Making complex from 181L and benzofurane...\n",
      "\n",
      "=== All molecules built successfully ===\n",
      "\n"
     ]
    }
   ],
   "source": [
    "# adjust molesetup.in before running this cell\n",
    "!FESetup molsetup.in"
   ]
  },
  {
   "cell_type": "code",
   "execution_count": 35,
   "metadata": {},
   "outputs": [
    {
     "name": "stdout",
     "output_type": "stream",
     "text": [
      "\n",
      "=== FESetup release 1.2.1, SUI version: 0.8.3 ===\n",
      "\n",
      "Please cite: HH Loeffler, J Michel, C Woods, J Chem Inf Mod, 55, 2485\n",
      "             DOI 10.1021/acs.jcim.5b00368\n",
      "For more information please visit http://www.ccpbiosim.ac.uk/fesetup/\n",
      "\n",
      "Making biomolecule 181L...\n",
      "Morphs will be generated for Sire\n",
      "Morphing benzene to o-xylene...\n",
      "Morphing o-xylene to benzene...\n",
      "Morphing benzene to p-xylene...\n",
      "Morphing p-xylene to benzene...\n",
      "Morphing p-xylene to o-xylene...\n",
      "Morphing o-xylene to p-xylene...\n",
      "Morphing benzene to indene...\n",
      "Morphing indene to benzene...\n",
      "Morphing indene to indole...\n",
      "Morphing indole to indene...\n",
      "Morphing indene to benzofurane...\n",
      "Morphing benzofurane to indene...\n",
      "Morphing benzofurane to indole...\n",
      "Morphing indole to benzofurane...\n",
      "Creating complex 181L:benzene with ligand morph benzene~o-xylene...\n",
      "Creating complex 181L:o-xylene with ligand morph o-xylene~benzene...\n",
      "Creating complex 181L:benzene with ligand morph benzene~p-xylene...\n",
      "Creating complex 181L:p-xylene with ligand morph p-xylene~benzene...\n",
      "Creating complex 181L:p-xylene with ligand morph p-xylene~o-xylene...\n",
      "Creating complex 181L:o-xylene with ligand morph o-xylene~p-xylene...\n",
      "Creating complex 181L:benzene with ligand morph benzene~indene...\n",
      "Creating complex 181L:indene with ligand morph indene~benzene...\n",
      "Creating complex 181L:indene with ligand morph indene~indole...\n",
      "Creating complex 181L:indole with ligand morph indole~indene...\n",
      "Creating complex 181L:indene with ligand morph indene~benzofurane...\n",
      "Creating complex 181L:benzofurane with ligand morph benzofurane~indene...\n",
      "Creating complex 181L:benzofurane with ligand morph benzofurane~indole...\n",
      "Creating complex 181L:indole with ligand morph indole~benzofurane...\n",
      "\n",
      "=== All molecules built successfully ===\n",
      "\n"
     ]
    }
   ],
   "source": [
    "# adjust morph.in before running this cell\n",
    "!FESetup morph.in"
   ]
  },
  {
   "cell_type": "code",
   "execution_count": null,
   "metadata": {},
   "outputs": [],
   "source": [
    "# Add code to visualise some of your generated output. \n",
    "\n",
    "\n"
   ]
  },
  {
   "cell_type": "markdown",
   "metadata": {},
   "source": [
    "## Advanced topics: explicit mapping \n",
    "Sometimes the proposed atom mapping for the morphing is not quite what you might want to do. For this purpose FESetup has a built in feature that lets you explicitly map the atoms. This may become imporant with chiral molecules or symmetric molecules or when you think a mapping makes more sense than what is proposed by the automatic algorithm. Think of this for example:\n",
    "![foo](images/mapping.png)\n",
    "![foo](images/mapping2.png)\n",
    "Let's look at Task05 and see how we can achieve and explicit atom mapping. "
   ]
  },
  {
   "cell_type": "code",
   "execution_count": 36,
   "metadata": {},
   "outputs": [
    {
     "name": "stdout",
     "output_type": "stream",
     "text": [
      "/home/workshops/fesetup_workshop/02_Lysozyme_and_advanced_FESetup_topics/Task05\n"
     ]
    }
   ],
   "source": [
    "cd ../Task05"
   ]
  },
  {
   "cell_type": "markdown",
   "metadata": {
    "collapsed": true
   },
   "source": [
    "You can explicity state the mapping in the `setup.in` file in this way:   \n",
    "```\n",
    "[ligand]\n",
    "basedir = ligands\n",
    "morph_pairs = benzene > benzofuran /1=3/2=2  # indices start from 1\n",
    "```\n",
    "\n",
    "Or you can use a `.map` file that sits in your ligands base directory to do the mapping. \n",
    "\n",
    "The content of the equivalent map file would look like this:   \n",
    "```\n",
    "# example mapping file benzene~benzofuran.map in the basedir ligands/\n",
    "# explicitly map the following atom indexes onto each other\n",
    "1 3 # this mapping and...\n",
    "2 2 # ...this one will fix the orientation of benzofuran in space\n",
    "\n",
    "```"
   ]
  },
  {
   "cell_type": "markdown",
   "metadata": {},
   "source": [
    "**Tasks: **\n",
    "1. Run FESetup using an explicit mapping or 1=3 and 2=2 in the setup.in file.\n",
    "2. Run FESetup using a map file to do the same mapping attaching to 3 and 4 of the benzene C atoms\n",
    "\n",
    "Please modify the existing file `setup.in` and `ligands/benzene~benzofurane.map` files to complete the task!"
   ]
  },
  {
   "cell_type": "code",
   "execution_count": null,
   "metadata": {},
   "outputs": [],
   "source": [
    "#The changes to the files will have to be done in the terminal, but feel free to add the code to execute FESetup here\n",
    "\n",
    "\n"
   ]
  },
  {
   "cell_type": "markdown",
   "metadata": {
    "collapsed": true
   },
   "source": [
    "## A little quizz for the end\n",
    "Please have a quick look at this quizz to see what you have learned from this notebook:\n",
    "https://goo.gl/forms/hSsPTYxnWvKjWj2B3"
   ]
  },
  {
   "cell_type": "code",
   "execution_count": null,
   "metadata": {},
   "outputs": [],
   "source": []
  }
 ],
 "metadata": {
  "anaconda-cloud": {},
  "kernelspec": {
   "display_name": "Python 3",
   "language": "python",
   "name": "python3"
  },
  "language_info": {
   "codemirror_mode": {
    "name": "ipython",
    "version": 3
   },
   "file_extension": ".py",
   "mimetype": "text/x-python",
   "name": "python",
   "nbconvert_exporter": "python",
   "pygments_lexer": "ipython3",
   "version": "3.5.2"
  }
 },
 "nbformat": 4,
 "nbformat_minor": 1
}
